{
 "cells": [
  {
   "cell_type": "code",
   "execution_count": 1,
   "metadata": {
    "editable": true
   },
   "outputs": [],
   "source": [
    "import logging\n",
    "import json\n",
    "from pyspark.sql import SparkSession\n",
    "from pyspark.sql.types import *\n",
    "import pyspark.sql.functions as psf"
   ]
  },
  {
   "cell_type": "code",
   "execution_count": 7,
   "metadata": {
    "editable": true
   },
   "outputs": [],
   "source": [
    "spark = SparkSession \\\n",
    "        .builder \\\n",
    "        .master(\"local[*]\") \\\n",
    "        .appName(\"Json File\") \\\n",
    "        .getOrCreate()"
   ]
  },
  {
   "cell_type": "code",
   "execution_count": 4,
   "metadata": {
    "editable": true
   },
   "outputs": [],
   "source": [
    "spark = SparkSession.builder.getOrCreate"
   ]
  },
  {
   "cell_type": "code",
   "execution_count": 9,
   "metadata": {
    "editable": true
   },
   "outputs": [],
   "source": [
    "df = spark.read.json('police-department-calls-for-service.json', multiLine=True)"
   ]
  },
  {
   "cell_type": "code",
   "execution_count": 13,
   "metadata": {
    "editable": true
   },
   "outputs": [
    {
     "name": "stdout",
     "output_type": "stream",
     "text": [
      "root\n",
      " |-- address: string (nullable = true)\n",
      " |-- address_type: string (nullable = true)\n",
      " |-- agency_id: string (nullable = true)\n",
      " |-- call_date: string (nullable = true)\n",
      " |-- call_date_time: string (nullable = true)\n",
      " |-- call_time: string (nullable = true)\n",
      " |-- city: string (nullable = true)\n",
      " |-- common_location: string (nullable = true)\n",
      " |-- crime_id: string (nullable = true)\n",
      " |-- disposition: string (nullable = true)\n",
      " |-- offense_date: string (nullable = true)\n",
      " |-- original_crime_type_name: string (nullable = true)\n",
      " |-- report_date: string (nullable = true)\n",
      " |-- state: string (nullable = true)\n",
      "\n"
     ]
    }
   ],
   "source": [
    "df.printSchema()"
   ]
  },
  {
   "cell_type": "code",
   "execution_count": 11,
   "metadata": {
    "editable": true
   },
   "outputs": [
    {
     "name": "stdout",
     "output_type": "stream",
     "text": [
      "+------------------------+---------------+---------+-----------------------+-----------------------+---------+-------------+-----------------------+---------+------------+-----------------------+------------------------+-----------------------+-----+\n",
      "|address                 |address_type   |agency_id|call_date              |call_date_time         |call_time|city         |common_location        |crime_id |disposition |offense_date           |original_crime_type_name|report_date            |state|\n",
      "+------------------------+---------------+---------+-----------------------+-----------------------+---------+-------------+-----------------------+---------+------------+-----------------------+------------------------+-----------------------+-----+\n",
      "|Geary Bl/divisadero St  |Intersection   |1        |2018-12-31T00:00:00.000|2018-12-31T23:57:00.000|23:57    |San Francisco|                       |183653763|ADM         |2018-12-31T00:00:00.000|Traffic Stop            |2018-12-31T00:00:00.000|CA   |\n",
      "|100 Blk Howard St       |Geo-Override   |1        |2018-12-31T00:00:00.000|2018-12-31T23:54:00.000|23:54    |San Francisco|                       |183653756|CIT         |2018-12-31T00:00:00.000|Traf Violation Cite     |2018-12-31T00:00:00.000|CA   |\n",
      "|3300 Block Of 20th Av   |Common Location|1        |2018-12-31T00:00:00.000|2018-12-31T23:49:00.000|23:49    |San Francisco|Stonestown Galleria, Sf|183653746|HAN         |2018-12-31T00:00:00.000|Passing Call            |2018-12-31T00:00:00.000|CA   |\n",
      "|1900 Block Of 18th Av   |Premise Address|1        |2018-12-31T00:00:00.000|2018-12-31T23:47:00.000|23:47    |San Francisco|                       |183653745|PAS         |2018-12-31T00:00:00.000|Audible Alarm           |2018-12-31T00:00:00.000|CA   |\n",
      "|Sansome St/chestnut St  |Intersection   |1        |2018-12-31T00:00:00.000|2018-12-31T23:46:00.000|23:46    |San Francisco|                       |183653737|CIT         |2018-12-31T00:00:00.000|Traffic Stop            |2018-12-31T00:00:00.000|CA   |\n",
      "|Haight St/fillmore St   |Intersection   |1        |2018-12-31T00:00:00.000|2018-12-31T23:38:00.000|23:38    |San Francisco|                       |183653719|ND          |2018-12-31T00:00:00.000|Passing Call            |2018-12-31T00:00:00.000|CA   |\n",
      "|Geary Bl/parker Av      |Intersection   |1        |2018-12-31T00:00:00.000|2018-12-31T23:38:00.000|23:38    |San Francisco|                       |183653722|CIT         |2018-12-31T00:00:00.000|Traffic Stop            |2018-12-31T00:00:00.000|CA   |\n",
      "|Battery St/union St     |Intersection   |1        |2018-12-31T00:00:00.000|2018-12-31T23:36:00.000|23:36    |San Francisco|                       |183653711|HAN         |2018-12-31T00:00:00.000|Traffic Stop            |2018-12-31T00:00:00.000|CA   |\n",
      "|1500 Block Of Haight St |Common Location|1        |2018-12-31T00:00:00.000|2018-12-31T23:34:00.000|23:34    |San Francisco|Haight St Corridor, Sf |183653706|Not recorded|2018-12-31T00:00:00.000|Passing Call            |2018-12-31T00:00:00.000|CA   |\n",
      "|5th St/minna St         |Intersection   |1        |2018-12-31T00:00:00.000|2018-12-31T23:33:00.000|23:33    |San Francisco|                       |183653717|GOA         |2018-12-31T00:00:00.000|Fight No Weapon         |2018-12-31T00:00:00.000|CA   |\n",
      "|Front St/green St       |Intersection   |1        |2018-12-31T00:00:00.000|2018-12-31T23:33:00.000|23:33    |San Francisco|                       |183653702|HAN         |2018-12-31T00:00:00.000|Traffic Stop            |2018-12-31T00:00:00.000|CA   |\n",
      "|3100 Block Of Mission St|Common Location|1        |2018-12-31T00:00:00.000|2018-12-31T23:33:00.000|23:33    |San Francisco|Roccapulco             |183653703|HAN         |2018-12-31T00:00:00.000|Passing Call            |2018-12-31T00:00:00.000|CA   |\n",
      "|3100 Block Of Mission St|Common Location|1        |2018-12-31T00:00:00.000|2018-12-31T23:33:00.000|23:33    |San Francisco|Roccapulco, Sf         |183653700|HAN         |2018-12-31T00:00:00.000|Passing Call            |2018-12-31T00:00:00.000|CA   |\n",
      "|Funston Av/cabrillo St  |Intersection   |1        |2018-12-31T00:00:00.000|2018-12-31T23:30:00.000|23:30    |San Francisco|                       |183653693|CIT         |2018-12-31T00:00:00.000|Traffic Stop            |2018-12-31T00:00:00.000|CA   |\n",
      "|4000 Block Of 18th St   |Premise Address|1        |2018-12-31T00:00:00.000|2018-12-31T23:30:00.000|23:30    |San Francisco|                       |183653696|REP         |2018-12-31T00:00:00.000|Att                     |2018-12-31T00:00:00.000|CA   |\n",
      "|Bryant St/4th St        |Intersection   |1        |2018-12-31T00:00:00.000|2018-12-31T23:29:00.000|23:29    |San Francisco|                       |183653688|REP         |2018-12-31T00:00:00.000|Auto Boost / Strip      |2018-12-31T00:00:00.000|CA   |\n",
      "|Geary St/jones St       |Intersection   |1        |2018-12-31T00:00:00.000|2018-12-31T23:29:00.000|23:29    |San Francisco|                       |183653689|HAN         |2018-12-31T00:00:00.000|Passing Call            |2018-12-31T00:00:00.000|CA   |\n",
      "|5th St/jessie St        |Intersection   |1        |2018-12-31T00:00:00.000|2018-12-31T23:28:00.000|23:28    |San Francisco|                       |183653687|ADV         |2018-12-31T00:00:00.000|Traffic Stop            |2018-12-31T00:00:00.000|CA   |\n",
      "|600 Block Of Dolores St |Common Location|1        |2018-12-31T00:00:00.000|2018-12-31T23:25:00.000|23:25    |San Francisco|Mission Dolores Park   |183653674|HAN         |2018-12-31T00:00:00.000|Passing Call            |2018-12-31T00:00:00.000|CA   |\n",
      "|1600 Block Of Haight St |Premise Address|1        |2018-12-31T00:00:00.000|2018-12-31T23:24:00.000|23:24    |San Francisco|                       |183653667|ADV         |2018-12-31T00:00:00.000|Suspicious Vehicle      |2018-12-31T00:00:00.000|CA   |\n",
      "+------------------------+---------------+---------+-----------------------+-----------------------+---------+-------------+-----------------------+---------+------------+-----------------------+------------------------+-----------------------+-----+\n",
      "only showing top 20 rows\n",
      "\n"
     ]
    }
   ],
   "source": [
    "df.show(truncate=0)"
   ]
  },
  {
   "cell_type": "code",
   "execution_count": null,
   "metadata": {
    "editable": true
   },
   "outputs": [],
   "source": []
  }
 ],
 "metadata": {
  "kernelspec": {
   "display_name": "Python 3",
   "language": "python",
   "name": "python3"
  },
  "language_info": {
   "codemirror_mode": {
    "name": "ipython",
    "version": 3
   },
   "file_extension": ".py",
   "mimetype": "text/x-python",
   "name": "python",
   "nbconvert_exporter": "python",
   "pygments_lexer": "ipython3",
   "version": "3.7.3"
  }
 },
 "nbformat": 4,
 "nbformat_minor": 4
}
